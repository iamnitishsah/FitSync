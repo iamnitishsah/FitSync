{
 "cells": [
  {
   "cell_type": "code",
   "metadata": {
    "ExecuteTime": {
     "end_time": "2025-01-20T09:43:45.483681Z",
     "start_time": "2025-01-20T09:43:45.479717Z"
    }
   },
   "source": [
    "import numpy as np\n",
    "import pandas as pd\n",
    "from sklearn.ensemble import RandomForestRegressor\n",
    "from sklearn.preprocessing import StandardScaler\n",
    "from sklearn.model_selection import cross_val_score, KFold\n",
    "import pickle"
   ],
   "id": "1c930207f71b2a9",
   "outputs": [],
   "execution_count": 10
  },
  {
   "metadata": {
    "ExecuteTime": {
     "end_time": "2025-01-20T09:43:45.508322Z",
     "start_time": "2025-01-20T09:43:45.498931Z"
    }
   },
   "cell_type": "code",
   "source": [
    "df = pd.read_csv('Lifestyle Data.csv')\n",
    "df = pd.get_dummies(df, columns=['Gender', 'Stress_Level'], drop_first=True)\n",
    "X = df.drop('Healthy_Lifestyle_Score', axis=1).values\n",
    "y = df['Healthy_Lifestyle_Score'].values\n",
    "scaler = StandardScaler()\n",
    "X = scaler.fit_transform(X)"
   ],
   "id": "3e44d969f35ded91",
   "outputs": [],
   "execution_count": 11
  },
  {
   "metadata": {
    "ExecuteTime": {
     "end_time": "2025-01-20T09:43:45.515030Z",
     "start_time": "2025-01-20T09:43:45.512080Z"
    }
   },
   "cell_type": "code",
   "source": [
    "def RandomForest(X, y):\n",
    "    model = RandomForestRegressor(n_estimators=100, random_state=42)\n",
    "    kf = KFold(n_splits=5, shuffle=True, random_state=42)\n",
    "\n",
    "    r2_scores = cross_val_score(model, X, y, cv=kf, scoring='r2')\n",
    "    print(f'Cross-validated R2 Score: {np.mean(r2_scores) * 100:.2f}%')\n",
    "\n",
    "    model.fit(X, y)\n",
    "    return model"
   ],
   "id": "a06299ad192bf6ca",
   "outputs": [],
   "execution_count": 12
  },
  {
   "metadata": {
    "ExecuteTime": {
     "end_time": "2025-01-20T09:43:46.034652Z",
     "start_time": "2025-01-20T09:43:45.524567Z"
    }
   },
   "cell_type": "code",
   "source": "rfmodel = RandomForest(X, y)",
   "id": "47728315f2e2e9c",
   "outputs": [
    {
     "name": "stdout",
     "output_type": "stream",
     "text": [
      "Cross-validated R2 Score: 84.09%\n"
     ]
    }
   ],
   "execution_count": 13
  },
  {
   "metadata": {
    "ExecuteTime": {
     "end_time": "2025-01-20T09:43:46.048517Z",
     "start_time": "2025-01-20T09:43:46.043881Z"
    }
   },
   "cell_type": "code",
   "source": [
    "def get_user_input():\n",
    "    try:\n",
    "        age = float(input(\"Enter your age: \"))\n",
    "        gender = input(\"Enter your gender (Male/Female): \").strip().capitalize()\n",
    "        daily_steps = float(input(\"Enter your daily steps: \"))\n",
    "        calories_consumed = float(input(\"Enter calories consumed: \"))\n",
    "        sleep_hours = float(input(\"Enter your average sleep hours: \"))\n",
    "        water_intake_liters = float(input(\"Enter water intake (liters): \"))\n",
    "        stress_level = input(\"Enter your stress level (Low/Medium/High): \").strip().capitalize()\n",
    "        exercise_hours = float(input(\"Enter your exercise hours: \"))\n",
    "        bmi = float(input(\"Enter your BMI: \"))\n",
    "\n",
    "        if gender not in ['Male', 'Female']:\n",
    "            raise ValueError(\"Invalid gender input. Please enter 'Male' or 'Female'.\")\n",
    "        if stress_level not in ['Low', 'Medium', 'High']:\n",
    "            raise ValueError(\"Invalid stress level input. Please enter 'Low', 'Medium', or 'High'.\")\n",
    "\n",
    "        gender_male = 1 if gender == 'Male' else 0\n",
    "        stress_level_medium = 1 if stress_level == 'Medium' else 0\n",
    "        stress_level_high = 1 if stress_level == 'High' else 0\n",
    "\n",
    "        user_df = pd.DataFrame({\n",
    "            'Age': [age],\n",
    "            'Daily_Steps': [daily_steps],\n",
    "            'Calories_Consumed': [calories_consumed],\n",
    "            'Sleep_Hours': [sleep_hours],\n",
    "            'Water_Intake_Liters': [water_intake_liters],\n",
    "            'Exercise_Hours': [exercise_hours],\n",
    "            'BMI': [bmi],\n",
    "            'Gender_Male': [gender_male],\n",
    "            'Stress_Level_Medium': [stress_level_medium],\n",
    "            'Stress_Level_High': [stress_level_high]\n",
    "        })\n",
    "\n",
    "        user_input = scaler.transform(user_df.values)\n",
    "\n",
    "        return user_input\n",
    "\n",
    "    except ValueError as e:\n",
    "        print(f\"Input error: {e}\")\n",
    "        return None\n"
   ],
   "id": "6f3e7adf21a695fc",
   "outputs": [],
   "execution_count": 14
  },
  {
   "metadata": {
    "ExecuteTime": {
     "end_time": "2025-01-20T09:43:46.070068Z",
     "start_time": "2025-01-20T09:43:46.067456Z"
    }
   },
   "cell_type": "code",
   "source": [
    "def predict(user_input, model):\n",
    "    if user_input is not None:\n",
    "        prediction = model.predict(user_input)\n",
    "        print(f'Predicted Healthy Lifestyle Score: {prediction[0]:.2f}')\n",
    "    else:\n",
    "        print(\"No prediction due to invalid input.\")"
   ],
   "id": "1148c28c1782ba25",
   "outputs": [],
   "execution_count": 15
  },
  {
   "metadata": {
    "ExecuteTime": {
     "end_time": "2025-01-20T09:43:48.811586Z",
     "start_time": "2025-01-20T09:43:46.089022Z"
    }
   },
   "cell_type": "code",
   "source": [
    "user_input = get_user_input()\n",
    "predict(user_input, rfmodel)"
   ],
   "id": "374e41634dd25710",
   "outputs": [
    {
     "name": "stdout",
     "output_type": "stream",
     "text": [
      "Input error: could not convert string to float: ''\n",
      "No prediction due to invalid input.\n"
     ]
    }
   ],
   "execution_count": 16
  },
  {
   "metadata": {
    "ExecuteTime": {
     "end_time": "2025-01-20T09:43:48.907763Z",
     "start_time": "2025-01-20T09:43:48.903147Z"
    }
   },
   "cell_type": "code",
   "source": [
    "with open('rfmodel.pkl', 'wb') as file:\n",
    "    pickle.dump(rfmodel, file)"
   ],
   "id": "ac9c4e191293476e",
   "outputs": [],
   "execution_count": 17
  },
  {
   "metadata": {
    "ExecuteTime": {
     "end_time": "2025-01-20T09:43:48.937158Z",
     "start_time": "2025-01-20T09:43:48.934085Z"
    }
   },
   "cell_type": "code",
   "source": [
    "with open('scaler.pkl', 'wb') as file:\n",
    "    pickle.dump(scaler, file)"
   ],
   "id": "fc0e589498d6ade7",
   "outputs": [],
   "execution_count": 18
  }
 ],
 "metadata": {
  "kernelspec": {
   "display_name": "Python 3",
   "language": "python",
   "name": "python3"
  },
  "language_info": {
   "codemirror_mode": {
    "name": "ipython",
    "version": 3
   },
   "file_extension": ".py",
   "mimetype": "text/x-python",
   "name": "python",
   "nbconvert_exporter": "python",
   "pygments_lexer": "ipython3",
   "version": "3.9"
  }
 },
 "nbformat": 4,
 "nbformat_minor": 5
}
